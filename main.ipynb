{
 "cells": [
  {
   "cell_type": "markdown",
   "id": "1d6d3ac1",
   "metadata": {},
   "source": [
    "# Psso a Passo do Algoritmo\n",
    "\n",
    "- **Inicialização:** Gerar população aleatória de betores (cada vetor = solução candidata).\n",
    "- **Avaliação:** Calcular o fitness (valor da função).\n",
    "- **Seleção:** Escolher indivíduos com melhores fitness.\n",
    "- **Cruzamento (Crossover):** Combinar partes de indivíduos.\n",
    "- **Mutação:** Alterar levemente alguns genes.\n",
    "- **Repetição:** Iterar até o número máximo de gerações ou convergência.\n",
    "- **Resultado final:** Mostrar o melhor indivíduo encontrado."
   ]
  },
  {
   "cell_type": "markdown",
   "id": "e91f637d",
   "metadata": {},
   "source": [
    "## Biblioteca"
   ]
  },
  {
   "cell_type": "code",
   "execution_count": 131,
   "id": "df97f6ae",
   "metadata": {},
   "outputs": [],
   "source": [
    "import random\n",
    "import numpy as np\n",
    "import os\n",
    "from datetime import datetime\n",
    "import matplotlib.pyplot as plt\n",
    "from deap import base, creator, algorithms, tools\n",
    "\n",
    "# Utils\n",
    "from utils.functions import rastrigin\n",
    "from utils import config"
   ]
  },
  {
   "cell_type": "markdown",
   "id": "e4557e51",
   "metadata": {},
   "source": [
    "## Configurando o DEAP"
   ]
  },
  {
   "cell_type": "code",
   "execution_count": 132,
   "id": "80b2e430",
   "metadata": {},
   "outputs": [],
   "source": [
    "# Semente aleatório (para reprodutibilidade)\n",
    "#random.seed(config.SEED)\n",
    "#np.random.seed(config.SEED)\n",
    "\n",
    "# Gera o toolbox responsável por registrar as configurações do framework\n",
    "toolbox = base.Toolbox()"
   ]
  },
  {
   "cell_type": "code",
   "execution_count": 133,
   "id": "93d806f3",
   "metadata": {},
   "outputs": [
    {
     "name": "stderr",
     "output_type": "stream",
     "text": [
      "/mnt/SegundoHD/Documentos/Projetos/OtimizacaoDeFuncaoMatematica/.conda/lib/python3.10/site-packages/deap/creator.py:138: RuntimeWarning: A class named 'Minimization' has already been created and it will be overwritten. Consider deleting previous creation of that class or rename it.\n",
      "  warnings.warn(\"A class named '{0}' has already been created and it \"\n",
      "/mnt/SegundoHD/Documentos/Projetos/OtimizacaoDeFuncaoMatematica/.conda/lib/python3.10/site-packages/deap/creator.py:138: RuntimeWarning: A class named 'Genes' has already been created and it will be overwritten. Consider deleting previous creation of that class or rename it.\n",
      "  warnings.warn(\"A class named '{0}' has already been created and it \"\n"
     ]
    }
   ],
   "source": [
    "# Cria o tipo de função indivíduo\n",
    "creator.create(\"Minimization\", base.Fitness, weights=(-1.0,))\n",
    "creator.create(\"Genes\", list, fitness=creator.Minimization)\n",
    "\n",
    "# Registra os nomes e os tipos de individuos, fitness e população\n",
    "toolbox.register(\"Attribute\", random.uniform, config.BOUND_LOW, config.BOUND_UP)\n",
    "toolbox.register(\"Chromossome\", tools.initRepeat, creator.Genes, toolbox.Attribute, n=config.IND_SIZE)\n",
    "toolbox.register(\"Population\", tools.initRepeat, list, toolbox.Chromossome)\n",
    "\n",
    "# Registra os operadores\n",
    "toolbox.register(\"evaluate\", rastrigin)\n",
    "toolbox.register(\"mate\", tools.cxTwoPoint)\n",
    "toolbox.register(\"mutate\", tools.mutGaussian, mu=0, sigma=0.2, indpb=0.2)\n",
    "toolbox.register(\"select\", tools.selBest)\n",
    "#toolbox.register(\"select\", tools.selTournament, tournsize=5)\n",
    "\n",
    "# Gera o formato de análise estátistica\n",
    "st = tools.Statistics(key=lambda ind: ind.fitness.values)\n",
    "st.register(\"Min\", np.min)\n",
    "st.register(\"Avg\", np.mean)"
   ]
  },
  {
   "cell_type": "code",
   "execution_count": 134,
   "id": "de8e7b01",
   "metadata": {},
   "outputs": [
    {
     "name": "stdout",
     "output_type": "stream",
     "text": [
      "Estratégia (μ + λ)\n",
      "Run: 0 - Fitness: 1.0134365315872031\n",
      "Run: 1 - Fitness: 2.0120018790038827\n",
      "Run: 2 - Fitness: 1.001792352420857\n",
      "Run: 3 - Fitness: 4.979790604304419\n",
      "Run: 4 - Fitness: 4.990361272422447\n",
      "Run: 5 - Fitness: 2.990036558464851\n",
      "Run: 6 - Fitness: 3.9810940023321137\n",
      "Run: 7 - Fitness: 2.9890114064267905\n",
      "Run: 8 - Fitness: 3.980062944995339\n",
      "Run: 9 - Fitness: 4.987845195798023\n",
      "Run: 10 - Fitness: 5.973828175112153\n",
      "Run: 11 - Fitness: 0.997013880033748\n",
      "Run: 12 - Fitness: 2.986126931653679\n",
      "Run: 13 - Fitness: 2.9881907373003997\n",
      "Run: 14 - Fitness: 4.984046924146625\n",
      "Run: 15 - Fitness: 2.989020400211338\n",
      "Run: 16 - Fitness: 1.995563629285833\n",
      "Run: 17 - Fitness: 4.981961621881609\n",
      "Run: 18 - Fitness: 4.976935523222217\n",
      "Run: 19 - Fitness: 2.9932868609463554\n"
     ]
    }
   ],
   "source": [
    "# Escolha da estratégia\n",
    "USE_PLUS_STRATEGY = True #True → (μ + λ), False → (μ, λ)\n",
    "\n",
    "best_overall = None\n",
    "best_fitness = float('inf') # Pois é minimização\n",
    "\n",
    "if USE_PLUS_STRATEGY:\n",
    "    print('Estratégia (μ + λ)')\n",
    "else:\n",
    "    print('Estragégia (μ, λ)')\n",
    "\n",
    "for i in range(config.TRIALS):\n",
    "    pop = toolbox.Population(n=config.MU)\n",
    "    if USE_PLUS_STRATEGY:\n",
    "        finalPop, log = algorithms.eaMuPlusLambda(pop, toolbox, config.MU, config._LAMBDA, config.PROB_CX, config.PROB_MT, config.N_GER,\n",
    "                                                stats=st, verbose=False)\n",
    "    else:\n",
    "        finalPop, log = algorithms.eaMuCommaLambda(pop, toolbox, config.MU, config._LAMBDA, config.PROB_CX, config.PROB_MT, config.N_GER,\n",
    "                                                stats=st, verbose=False)\n",
    "\n",
    "    bestSolution = tools.selBest(finalPop, 1)\n",
    "    current_best = bestSolution[0]\n",
    "    current_fitness = current_best.fitness.values[0]\n",
    "    print(f'Run: {i} - Fitness: {current_fitness}')\n",
    "\n",
    "    if current_fitness < best_fitness:\n",
    "        best_fitness = current_fitness\n",
    "        best_overall = current_best"
   ]
  },
  {
   "cell_type": "code",
   "execution_count": 135,
   "id": "68fe5628",
   "metadata": {},
   "outputs": [
    {
     "name": "stdout",
     "output_type": "stream",
     "text": [
      "===== MELHOR RESULTADO GLOBAL (20 RODADAS) =====\n",
      "Melhor Fitness: 0.997013880033748\n",
      "Melhor Indivíduo: [0.002277511992148557, 0.00122079138414663, 0.0016596390119763352, 0.9940069804395557, 0.00014342135215417596]\n"
     ]
    }
   ],
   "source": [
    "# Imprime a melhor solução da população final\n",
    "print(f\"===== MELHOR RESULTADO GLOBAL ({config.TRIALS} RODADAS) =====\")\n",
    "print(f\"Melhor Fitness: {best_fitness}\")\n",
    "print(f\"Melhor Indivíduo: {best_overall}\")"
   ]
  },
  {
   "cell_type": "code",
   "execution_count": 136,
   "id": "9882d494",
   "metadata": {},
   "outputs": [
    {
     "data": {
      "image/png": "[encoded data removed]",
      "text/plain": [
       "<Figure size 640x480 with 1 Axes>"
      ]
     },
     "metadata": {},
     "output_type": "display_data"
    }
   ],
   "source": [
    "# Plot best solutions\n",
    "minFit = log.select(\"Min\")\n",
    "\n",
    "plt.plot(minFit, color='blue')\n",
    "plt.xlabel('Generation')\n",
    "plt.ylabel('Fitness')\n",
    "plt.grid(True)\n",
    "plt.xticks(range(0, config.N_GER+1, 5))\n",
    "plt.show()"
   ]
  },
  {
   "cell_type": "code",
   "execution_count": null,
   "id": "dfcbab5c",
   "metadata": {},
   "outputs": [],
   "source": [
    "\n",
    "# ====== SALVAR RESULTADOS ======\n",
    "os.makedirs(\"results\", exist_ok=True)\n",
    "\n",
    "# Configuraçẽos\n",
    "algorithm_name = \"Estratégia (μ + λ)\"\n",
    "\n",
    "# Obtém data e hora atuais\n",
    "data_hora = datetime.now().strftime(\"%d/%m/%Y %H:%M:%S\")\n",
    "\n",
    "# Salva resultados num arquivo .txt\n",
    "with open(\"results/resultados.txt\", \"a\") as f:\n",
    "    f.write(\"\\n\" + \"=\"*60 + \"\\n\")\n",
    "    f.write(f\"Data e hora da execução: {data_hora}\\n\")\n",
    "    f.write(f\"Algoritmo: {algorithm_name}\")\n",
    "    f.write(f\"Melhor Indivíduo e seu Fitness de {config.TRIALS} rodadas\\n\")\n",
    "    f.write(f\"Melhor indivíduo: {best_overall}\\n\")\n",
    "    f.write(f\"Melhor fitness: {best_fitness}\\n\")\n",
    "\n",
    "# Salva o gráfico gerado\n",
    "plt.figure()\n",
    "plt.plot(minFit, color='blue')\n",
    "plt.xlabel('Geração')\n",
    "plt.ylabel('Menor Fitness')\n",
    "plt.xticks(range(0, config.N_GER+1, 5))\n",
    "plt.grid(True)\n",
    "plt.title(f'Convergência - {algorithm_name}')\n",
    "plt.savefig(f\"results/grafico_convergencia_{algorithm_name.replace(' ', '_').replace('(', '').replace(')','')}.png\")\n",
    "plt.close()"
   ]
  }
 ],
 "metadata": {
  "kernelspec": {
   "display_name": ".conda",
   "language": "python",
   "name": "python3"
  },
  "language_info": {
   "codemirror_mode": {
    "name": "ipython",
    "version": 3
   },
   "file_extension": ".py",
   "mimetype": "text/x-python",
   "name": "python",
   "nbconvert_exporter": "python",
   "pygments_lexer": "ipython3",
   "version": "3.10.18"
  }
 },
 "nbformat": 4,
 "nbformat_minor": 5
}
