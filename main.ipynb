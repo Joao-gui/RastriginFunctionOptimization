{
 "cells": [
  {
   "cell_type": "markdown",
   "id": "1d6d3ac1",
   "metadata": {},
   "source": [
    "# Psso a Passo do Algoritmo\n",
    "\n",
    "- **Inicialização:** Gerar população aleatória de betores (cada vetor = solução candidata).\n",
    "- **Avaliação:** Calcular o fitness (valor da função).\n",
    "- **Seleção:** Escolher indivíduos com melhores fitness.\n",
    "- **Cruzamento (Crossover):** Combinar partes de indivíduos.\n",
    "- **Mutação:** Alterar levemente alguns genes.\n",
    "- **Repetição:** Iterar até o número máximo de gerações ou convergência.\n",
    "- **Resultado final:** Mostrar o melhor indivíduo encontrado."
   ]
  },
  {
   "cell_type": "markdown",
   "id": "e91f637d",
   "metadata": {},
   "source": [
    "## Biblioteca"
   ]
  },
  {
   "cell_type": "code",
   "execution_count": 1,
   "id": "df97f6ae",
   "metadata": {},
   "outputs": [],
   "source": [
    "import random\n",
    "import numpy as np\n",
    "import os\n",
    "from datetime import datetime\n",
    "import matplotlib.pyplot as plt\n",
    "from deap import base, creator, algorithms, tools\n",
    "\n",
    "# Utils\n",
    "from utils.functions import rastrigin\n",
    "from utils import config"
   ]
  },
  {
   "cell_type": "markdown",
   "id": "e4557e51",
   "metadata": {},
   "source": [
    "## Configurando o DEAP"
   ]
  },
  {
   "cell_type": "code",
   "execution_count": 2,
   "id": "80b2e430",
   "metadata": {},
   "outputs": [],
   "source": [
    "# Seed aleatório (para reprodutibilidade)\n",
    "random.seed(config.SEED)\n",
    "np.random.seed(config.SEED)\n",
    "\n",
    "# Gera o toolbox responsável por registrar as configurações do framework\n",
    "toolbox = base.Toolbox()"
   ]
  },
  {
   "cell_type": "code",
   "execution_count": null,
   "id": "93d806f3",
   "metadata": {},
   "outputs": [],
   "source": [
    "# Cria o tipo de função indivíduo\n",
    "creator.create(\"Minimization\", base.Fitness, weights=(-1.0,))\n",
    "creator.create(\"Genes\", list, fitness=creator.Minimization)\n",
    "\n",
    "# Registra os nomes e os tipos de individuos, fitness e população\n",
    "toolbox.register(\"Attribute\", random.uniform, config.BOUND_LOW, config.BOUND_UP)\n",
    "toolbox.register(\"Chromossome\", tools.initRepeat, creator.Genes, toolbox.Attribute, n=config.IND_SIZE)\n",
    "toolbox.register(\"Population\", tools.initRepeat, list, toolbox.Chromossome)\n",
    "\n",
    "# Registra os operadores\n",
    "toolbox.register(\"evaluate\", rastrigin)\n",
    "toolbox.register(\"mate\", tools.cxTwoPoint)\n",
    "toolbox.register(\"mutate\", tools.mutGaussian, mu=0, sigma=0.5, indpb=0.1) #mu=média da variação, sigma=Intensidade das mutações(0.1 a 1.0) e indpb=Probabilidade de cada gene mutar(0.1 a 0.3)\n",
    "toolbox.register(\"select\", tools.selBest)\n",
    "#toolbox.register(\"select\", tools.selTournament, tournsize=5)\n",
    "\n",
    "# Gera o formato de análise estátistica\n",
    "st = tools.Statistics(key=lambda ind: ind.fitness.values)\n",
    "st.register(\"Min\", np.min)\n",
    "st.register(\"Avg\", np.mean)"
   ]
  },
  {
   "cell_type": "code",
   "execution_count": 4,
   "id": "de8e7b01",
   "metadata": {},
   "outputs": [
    {
     "name": "stdout",
     "output_type": "stream",
     "text": [
      "Estratégia (μ + λ)\n",
      "Run: 0 - Fitness: 0.02789670607961625\n",
      "Run: 1 - Fitness: 0.07942512793850653\n",
      "Run: 2 - Fitness: 1.481545002197663\n",
      "Run: 3 - Fitness: 0.0828838029282366\n",
      "Run: 4 - Fitness: 0.4038505662165477\n",
      "Run: 5 - Fitness: 0.04537987947463762\n",
      "Run: 6 - Fitness: 0.04427169116240748\n",
      "Run: 7 - Fitness: 0.07580254630944694\n",
      "Run: 8 - Fitness: 0.11493858290695869\n",
      "Run: 9 - Fitness: 0.06594419681414365\n",
      "Run: 10 - Fitness: 0.030644582429118827\n",
      "Run: 11 - Fitness: 0.013450937500664395\n",
      "Run: 12 - Fitness: 0.048512622384535575\n",
      "Run: 13 - Fitness: 0.053750857574769384\n",
      "Run: 14 - Fitness: 0.12778410554473396\n",
      "Run: 15 - Fitness: 0.035580078544981575\n",
      "Run: 16 - Fitness: 0.09113965707653904\n",
      "Run: 17 - Fitness: 1.0679145402684895\n",
      "Run: 18 - Fitness: 0.0807564667690599\n",
      "Run: 19 - Fitness: 0.03550815560265619\n",
      "Run: 20 - Fitness: 1.0646478767764904\n",
      "Run: 21 - Fitness: 0.35689784524424795\n",
      "Run: 22 - Fitness: 0.12341472086001204\n",
      "Run: 23 - Fitness: 0.02311494512676404\n",
      "Run: 24 - Fitness: 0.02444825631528147\n",
      "Run: 25 - Fitness: 0.08135396572414777\n",
      "Run: 26 - Fitness: 1.1163947611891842\n",
      "Run: 27 - Fitness: 1.149945866112347\n",
      "Run: 28 - Fitness: 0.030352594438284086\n",
      "Run: 29 - Fitness: 0.04061429105178149\n"
     ]
    }
   ],
   "source": [
    "# Escolha da estratégia\n",
    "USE_PLUS_STRATEGY = True #True → (μ + λ), False → (μ, λ)\n",
    "\n",
    "best_overall = None\n",
    "best_fitness = float('inf') # Pois é minimização\n",
    "best_run = None\n",
    "list_fitness_runs = []\n",
    "\n",
    "if USE_PLUS_STRATEGY:\n",
    "    algorithm_name = 'Estratégia (μ + λ)'\n",
    "    print('Estratégia (μ + λ)')\n",
    "else:\n",
    "    algorithm_name = 'Estratégia (μ, λ)'\n",
    "    print(algorithm_name)\n",
    "\n",
    "for i in range(config.TRIALS):\n",
    "    pop = toolbox.Population(n=config.MU)\n",
    "    if USE_PLUS_STRATEGY:\n",
    "        finalPop, log = algorithms.eaMuPlusLambda(pop, toolbox, config.MU, config._LAMBDA, config.PROB_CX, config.PROB_MT, config.N_GER,\n",
    "                                                stats=st, verbose=False)\n",
    "    else:\n",
    "        finalPop, log = algorithms.eaMuCommaLambda(pop, toolbox, config.MU, config._LAMBDA, config.PROB_CX, config.PROB_MT, config.N_GER,\n",
    "                                                stats=st, verbose=False)\n",
    "\n",
    "    bestSolution = tools.selBest(finalPop, 1)\n",
    "    current_best = bestSolution[0]\n",
    "    current_fitness = current_best.fitness.values[0]\n",
    "    print(f'Run: {i} - Fitness: {current_fitness}')\n",
    "    list_fitness_runs.append(current_fitness)\n",
    "\n",
    "    if current_fitness < best_fitness:\n",
    "        best_fitness = current_fitness\n",
    "        best_overall = current_best\n",
    "        best_run = i"
   ]
  },
  {
   "cell_type": "code",
   "execution_count": 12,
   "id": "68fe5628",
   "metadata": {},
   "outputs": [
    {
     "name": "stdout",
     "output_type": "stream",
     "text": [
      "===== MELHOR RESULTADO GLOBAL (30 RODADAS) =====\n",
      "Melhor run: 11\n",
      "Melhor Fitness: 0.013450937500664395\n",
      "Melhor Indivíduo: [0.0015346107481237778, -0.0032351986196700044, -0.0012619176876946226, 0.0006210285102999325, -0.0008535826191522072, 0.006003177676175775, -0.0005878817557677983, -0.00027808658771108496, 0.003922880259329409, 0.000653343050461731]\n",
      "\n",
      "===== MÉDIA DOS FITNESS DE (30 RODADAS) =====\n",
      "Média: 0.26727217428540845\n"
     ]
    }
   ],
   "source": [
    "# Imprime a melhor solução da população final\n",
    "print(f\"===== MELHOR RESULTADO GLOBAL ({config.TRIALS} RODADAS) =====\")\n",
    "print(f\"Melhor run: {best_run}\")\n",
    "print(f\"Melhor Fitness: {best_fitness}\")\n",
    "print(f\"Melhor Indivíduo: {best_overall}\\n\")\n",
    "\n",
    "# Imprime a média dos Fitness dos N Trials\n",
    "print(f\"===== MÉDIA DOS FITNESS DE ({config.TRIALS} RODADAS) =====\")\n",
    "media_fitness = sum(list_fitness_runs)/len(list_fitness_runs)\n",
    "print(f'Média: {media_fitness}')"
   ]
  },
  {
   "cell_type": "code",
   "execution_count": 6,
   "id": "9882d494",
   "metadata": {},
   "outputs": [
    {
     "data": {
      "image/png": "[encoded data removed]",
      "text/plain": [
       "<Figure size 640x480 with 1 Axes>"
      ]
     },
     "metadata": {},
     "output_type": "display_data"
    }
   ],
   "source": [
    "# Plot best solutions\n",
    "minFit = log.select(\"Min\")\n",
    "\n",
    "plt.plot(minFit, color='blue')\n",
    "plt.xlabel('Generation')\n",
    "plt.ylabel('Fitness')\n",
    "plt.grid(True)\n",
    "plt.xticks(range(0, config.N_GER+1, 20))\n",
    "plt.show()"
   ]
  },
  {
   "cell_type": "code",
   "execution_count": 13,
   "id": "dfcbab5c",
   "metadata": {},
   "outputs": [],
   "source": [
    "\n",
    "# ====== SALVAR RESULTADOS ======\n",
    "os.makedirs(\"results\", exist_ok=True)\n",
    "\n",
    "# Obtém data e hora atuais\n",
    "data_hora = datetime.now().strftime(\"%d/%m/%Y %H:%M:%S\")\n",
    "\n",
    "# Salva resultados num arquivo .txt\n",
    "with open(\"results/resultados.txt\", \"w\") as f:\n",
    "    f.write(\"\\n\" + \"=\"*60 + \"\\n\")\n",
    "    f.write(f\"Data e hora da execução: {data_hora}\\n\")\n",
    "    f.write(f\"Algoritmo: {algorithm_name}\\n\")\n",
    "    f.write(f\"Melhor Indivíduo e seu Fitness de {config.TRIALS} rodadas\\n\")\n",
    "    f.write(f\"Melhor run: {best_run}\\n\")\n",
    "    f.write(f\"Melhor indivíduo: {best_overall}\\n\")\n",
    "    f.write(f\"Melhor fitness: {best_fitness}\\n\")\n",
    "    \n",
    "    # Imprime a média dos Fitness dos N Trials\n",
    "    f.write(\"\\n\" + \"=\"*60 + \"\\n\")\n",
    "    f.write(f\"Média do fitness de {config.TRIALS} rodadas\\n\")\n",
    "    f.write(f'Média: {media_fitness}')\n",
    "\n",
    "# Salva o gráfico gerado\n",
    "plt.figure()\n",
    "plt.plot(minFit, color='blue')\n",
    "plt.xlabel('Geração')\n",
    "plt.ylabel('Menor Fitness')\n",
    "plt.xticks(range(0, config.N_GER+1, 5))\n",
    "plt.grid(True)\n",
    "plt.title(f'Convergência - {algorithm_name}', fontsize=12)\n",
    "plt.suptitle(f\"Data e hora: {data_hora}\", fontsize=9)\n",
    "plt.savefig(f\"results/grafico_convergencia_{algorithm_name.replace(' ', '_').replace('(', '').replace(')','')}.png\")\n",
    "plt.close()"
   ]
  }
 ],
 "metadata": {
  "kernelspec": {
   "display_name": ".conda",
   "language": "python",
   "name": "python3"
  },
  "language_info": {
   "codemirror_mode": {
    "name": "ipython",
    "version": 3
   },
   "file_extension": ".py",
   "mimetype": "text/x-python",
   "name": "python",
   "nbconvert_exporter": "python",
   "pygments_lexer": "ipython3",
   "version": "3.10.18"
  }
 },
 "nbformat": 4,
 "nbformat_minor": 5
}
