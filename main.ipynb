{
 "cells": [
  {
   "cell_type": "markdown",
   "id": "1d6d3ac1",
   "metadata": {},
   "source": [
    "# Psso a Passo do Algoritmo\n",
    "\n",
    "- **Inicialização:** Gerar população aleatória de betores (cada vetor = solução candidata).\n",
    "- **Avaliação:** Calcular o fitness (valor da função).\n",
    "- **Seleção:** Escolher indivíduos com melhores fitness.\n",
    "- **Cruzamento (Crossover):** Combinar partes de indivíduos.\n",
    "- **Mutação:** Alterar levemente alguns genes.\n",
    "- **Repetição:** Iterar até o número máximo de gerações ou convergência.\n",
    "- **Resultado final:** Mostrar o melhor indivíduo encontrado."
   ]
  },
  {
   "cell_type": "markdown",
   "id": "e91f637d",
   "metadata": {},
   "source": [
    "## Biblioteca"
   ]
  },
  {
   "cell_type": "code",
   "execution_count": null,
   "id": "df97f6ae",
   "metadata": {},
   "outputs": [],
   "source": [
    "import random\n",
    "import numpy as np\n",
    "from deap import base, creator, algorithms, tools\n",
    "\n",
    "# Utils\n",
    "from utils.functions import rastrigin\n",
    "from utils import config"
   ]
  }
 ],
 "metadata": {
  "kernelspec": {
   "display_name": ".conda",
   "language": "python",
   "name": "python3"
  },
  "language_info": {
   "codemirror_mode": {
    "name": "ipython",
    "version": 3
   },
   "file_extension": ".py",
   "mimetype": "text/x-python",
   "name": "python",
   "nbconvert_exporter": "python",
   "pygments_lexer": "ipython3",
   "version": "3.10.18"
  }
 },
 "nbformat": 4,
 "nbformat_minor": 5
}
