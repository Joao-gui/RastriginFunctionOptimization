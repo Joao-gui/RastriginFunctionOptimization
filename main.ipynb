{
 "cells": [
  {
   "cell_type": "markdown",
   "id": "1d6d3ac1",
   "metadata": {},
   "source": [
    "# Psso a Passo do Algoritmo\n",
    "\n",
    "- **Inicialização:** Gerar população aleatória de betores (cada vetor = solução candidata).\n",
    "- **Avaliação:** Calcular o fitness (valor da função).\n",
    "- **Seleção:** Escolher indivíduos com melhores fitness.\n",
    "- **Cruzamento (Crossover):** Combinar partes de indivíduos.\n",
    "- **Mutação:** Alterar levemente alguns genes.\n",
    "- **Repetição:** Iterar até o número máximo de gerações ou convergência.\n",
    "- **Resultado final:** Mostrar o melhor indivíduo encontrado."
   ]
  },
  {
   "cell_type": "markdown",
   "id": "e91f637d",
   "metadata": {},
   "source": [
    "## Biblioteca"
   ]
  },
  {
   "cell_type": "code",
   "execution_count": 171,
   "id": "df97f6ae",
   "metadata": {},
   "outputs": [],
   "source": [
    "import random\n",
    "import numpy as np\n",
    "import os\n",
    "from datetime import datetime\n",
    "import matplotlib.pyplot as plt\n",
    "from deap import base, creator, algorithms, tools\n",
    "\n",
    "# Utils\n",
    "from utils.functions import rastrigin\n",
    "from utils import config"
   ]
  },
  {
   "cell_type": "markdown",
   "id": "e4557e51",
   "metadata": {},
   "source": [
    "## Configurando o DEAP"
   ]
  },
  {
   "cell_type": "code",
   "execution_count": null,
   "id": "80b2e430",
   "metadata": {},
   "outputs": [],
   "source": [
    "# Seed aleatório (para reprodutibilidade)\n",
    "random.seed(config.SEED)\n",
    "np.random.seed(config.SEED)\n",
    "\n",
    "# Gera o toolbox responsável por registrar as configurações do framework\n",
    "toolbox = base.Toolbox()"
   ]
  },
  {
   "cell_type": "code",
   "execution_count": 173,
   "id": "93d806f3",
   "metadata": {},
   "outputs": [],
   "source": [
    "# Cria o tipo de função indivíduo\n",
    "creator.create(\"Minimization\", base.Fitness, weights=(-1.0,))\n",
    "creator.create(\"Genes\", list, fitness=creator.Minimization)\n",
    "\n",
    "# Registra os nomes e os tipos de individuos, fitness e população\n",
    "toolbox.register(\"Attribute\", random.uniform, config.BOUND_LOW, config.BOUND_UP)\n",
    "toolbox.register(\"Chromossome\", tools.initRepeat, creator.Genes, toolbox.Attribute, n=config.IND_SIZE)\n",
    "toolbox.register(\"Population\", tools.initRepeat, list, toolbox.Chromossome)\n",
    "\n",
    "# Registra os operadores\n",
    "toolbox.register(\"evaluate\", rastrigin)\n",
    "toolbox.register(\"mate\", tools.cxTwoPoint)\n",
    "toolbox.register(\"mutate\", tools.mutGaussian, mu=0, sigma=0.2, indpb=0.2)\n",
    "toolbox.register(\"select\", tools.selBest)\n",
    "#toolbox.register(\"select\", tools.selTournament, tournsize=5)\n",
    "\n",
    "# Gera o formato de análise estátistica\n",
    "st = tools.Statistics(key=lambda ind: ind.fitness.values)\n",
    "st.register(\"Min\", np.min)\n",
    "st.register(\"Avg\", np.mean)"
   ]
  },
  {
   "cell_type": "code",
   "execution_count": 174,
   "id": "de8e7b01",
   "metadata": {},
   "outputs": [
    {
     "name": "stdout",
     "output_type": "stream",
     "text": [
      "Estratégia (μ + λ)\n",
      "Run: 0 - Fitness: 5.974276815872415\n",
      "Run: 1 - Fitness: 2.005596553811472\n",
      "Run: 2 - Fitness: 1.993165245841297\n",
      "Run: 3 - Fitness: 2.0005758894549075\n",
      "Run: 4 - Fitness: 2.9902890828944635\n",
      "Run: 5 - Fitness: 1.9913704283802645\n",
      "Run: 6 - Fitness: 3.9851024350880735\n",
      "Run: 7 - Fitness: 4.993266363605954\n",
      "Run: 8 - Fitness: 3.985104472071029\n",
      "Run: 9 - Fitness: 2.987813970191411\n",
      "Run: 10 - Fitness: 2.9906563001103663\n",
      "Run: 11 - Fitness: 3.984400630534438\n",
      "Run: 12 - Fitness: 10.96208465526886\n",
      "Run: 13 - Fitness: 1.9936418132572697\n",
      "Run: 14 - Fitness: 0.0027759309361741202\n",
      "Run: 15 - Fitness: 2.9879713209882084\n",
      "Run: 16 - Fitness: 0.0013458220962405676\n",
      "Run: 17 - Fitness: 0.9985250735400726\n",
      "Run: 18 - Fitness: 0.995972484234926\n",
      "Run: 19 - Fitness: 2.987585593065994\n"
     ]
    }
   ],
   "source": [
    "# Escolha da estratégia\n",
    "USE_PLUS_STRATEGY = True #True → (μ + λ), False → (μ, λ)\n",
    "\n",
    "best_overall = None\n",
    "best_fitness = float('inf') # Pois é minimização\n",
    "best_run = None\n",
    "\n",
    "if USE_PLUS_STRATEGY:\n",
    "    algorithm_name = 'Estratégia (μ + λ)'\n",
    "    print('Estratégia (μ + λ)')\n",
    "else:\n",
    "    algorithm_name = 'Estratégia (μ, λ)'\n",
    "    print(algorithm_name)\n",
    "\n",
    "for i in range(config.TRIALS):\n",
    "    pop = toolbox.Population(n=config.MU)\n",
    "    if USE_PLUS_STRATEGY:\n",
    "        finalPop, log = algorithms.eaMuPlusLambda(pop, toolbox, config.MU, config._LAMBDA, config.PROB_CX, config.PROB_MT, config.N_GER,\n",
    "                                                stats=st, verbose=False)\n",
    "    else:\n",
    "        finalPop, log = algorithms.eaMuCommaLambda(pop, toolbox, config.MU, config._LAMBDA, config.PROB_CX, config.PROB_MT, config.N_GER,\n",
    "                                                stats=st, verbose=False)\n",
    "\n",
    "    bestSolution = tools.selBest(finalPop, 1)\n",
    "    current_best = bestSolution[0]\n",
    "    current_fitness = current_best.fitness.values[0]\n",
    "    print(f'Run: {i} - Fitness: {current_fitness}')\n",
    "\n",
    "    if current_fitness < best_fitness:\n",
    "        best_fitness = current_fitness\n",
    "        best_overall = current_best\n",
    "        best_run = i"
   ]
  },
  {
   "cell_type": "code",
   "execution_count": 175,
   "id": "68fe5628",
   "metadata": {},
   "outputs": [
    {
     "name": "stdout",
     "output_type": "stream",
     "text": [
      "===== MELHOR RESULTADO GLOBAL (20 RODADAS) =====\n",
      "Melhor Fitness: 0.0013458220962405676\n",
      "Melhor Indivíduo: [-0.00019494117606175948, 0.0018326147334652987, 0.0017822796744719144, 0.0003721819133587177, -0.00026869875496170225]\n"
     ]
    }
   ],
   "source": [
    "# Imprime a melhor solução da população final\n",
    "print(f\"===== MELHOR RESULTADO GLOBAL ({config.TRIALS} RODADAS) =====\")\n",
    "print(f\"Melhor Fitness: {best_fitness}\")\n",
    "print(f\"Melhor Indivíduo: {best_overall}\")"
   ]
  },
  {
   "cell_type": "code",
   "execution_count": 176,
   "id": "9882d494",
   "metadata": {},
   "outputs": [
    {
     "data": {
      "image/png": "[encoded data removed]",
      "text/plain": [
       "<Figure size 640x480 with 1 Axes>"
      ]
     },
     "metadata": {},
     "output_type": "display_data"
    }
   ],
   "source": [
    "# Plot best solutions\n",
    "minFit = log.select(\"Min\")\n",
    "\n",
    "plt.plot(minFit, color='blue')\n",
    "plt.xlabel('Generation')\n",
    "plt.ylabel('Fitness')\n",
    "plt.grid(True)\n",
    "plt.xticks(range(0, config.N_GER+1, 5))\n",
    "plt.show()"
   ]
  },
  {
   "cell_type": "code",
   "execution_count": 177,
   "id": "dfcbab5c",
   "metadata": {},
   "outputs": [],
   "source": [
    "\n",
    "# ====== SALVAR RESULTADOS ======\n",
    "os.makedirs(\"results\", exist_ok=True)\n",
    "\n",
    "# Obtém data e hora atuais\n",
    "data_hora = datetime.now().strftime(\"%d/%m/%Y %H:%M:%S\")\n",
    "\n",
    "# Salva resultados num arquivo .txt\n",
    "with open(\"results/resultados.txt\", \"w\") as f:\n",
    "    f.write(\"\\n\" + \"=\"*60 + \"\\n\")\n",
    "    f.write(f\"Data e hora da execução: {data_hora}\\n\")\n",
    "    f.write(f\"Algoritmo: {algorithm_name}\\n\")\n",
    "    f.write(f\"Melhor Indivíduo e seu Fitness de {config.TRIALS} rodadas\\n\")\n",
    "    f.write(f\"Melhor run: {best_run}\\n\")\n",
    "    f.write(f\"Melhor indivíduo: {best_overall}\\n\")\n",
    "    f.write(f\"Melhor fitness: {best_fitness}\\n\")\n",
    "\n",
    "# Salva o gráfico gerado\n",
    "plt.figure()\n",
    "plt.plot(minFit, color='blue')\n",
    "plt.xlabel('Geração')\n",
    "plt.ylabel('Menor Fitness')\n",
    "plt.xticks(range(0, config.N_GER+1, 5))\n",
    "plt.grid(True)\n",
    "plt.title(f'Convergência - {algorithm_name}', fontsize=12)\n",
    "plt.suptitle(f\"Data e hora: {data_hora}\", fontsize=9)\n",
    "plt.savefig(f\"results/grafico_convergencia_{algorithm_name.replace(' ', '_').replace('(', '').replace(')','')}.png\")\n",
    "plt.close()"
   ]
  }
 ],
 "metadata": {
  "kernelspec": {
   "display_name": ".conda",
   "language": "python",
   "name": "python3"
  },
  "language_info": {
   "codemirror_mode": {
    "name": "ipython",
    "version": 3
   },
   "file_extension": ".py",
   "mimetype": "text/x-python",
   "name": "python",
   "nbconvert_exporter": "python",
   "pygments_lexer": "ipython3",
   "version": "3.10.18"
  }
 },
 "nbformat": 4,
 "nbformat_minor": 5
}
